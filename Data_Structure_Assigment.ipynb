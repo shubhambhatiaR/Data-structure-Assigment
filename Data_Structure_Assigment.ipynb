{
  "nbformat": 4,
  "nbformat_minor": 0,
  "metadata": {
    "colab": {
      "provenance": []
    },
    "kernelspec": {
      "name": "python3",
      "display_name": "Python 3"
    },
    "language_info": {
      "name": "python"
    }
  },
  "cells": [
    {
      "cell_type": "markdown",
      "source": [
        "1. What are data structures, and why are they important?\n",
        " - Data structures are specialized formats for organizing and storing data in a program. They’re important because they make data access, manipulation, and storage efficient and logical—helping solve problems faster and use memory effectively\n",
        "\n",
        "2. Explain the difference between mutable and immutable data types with examples ?\n",
        "  - Mutable vs. Immutable\n",
        "- Mutable data types can be changed after creation.\n",
        "Examples: list, dict, set.\n",
        "- Immutable data types cannot be changed after creation.\n",
        "Examples: int, str, tuple.\n",
        "They matter because they affect how data behaves during assignment, function calls, and memory usage.\n",
        "\n",
        "3.  What are the main differences between lists and tuples in Python?\n",
        "\n",
        " - Main differences between lists and tuples in Python :\n",
        "\n",
        " - Mutability: Lists are mutable; tuples are immutable.\n",
        "\n",
        " - Syntax: Lists use []; tuples use ().\n",
        "\n",
        " - Methods: Lists have more built-in methods.\n",
        "\n",
        " - Performance: Tuples are faster and use less memory.\n",
        "\n",
        "  - Usage: Use lists for changeable data, tuples for fixed data.\n",
        "\n",
        "4.  Describe how dictionaries store data?\n",
        " - Dictionaries in Python store data as key-value pairs using a hash table. Each key is hashed to find its index, allowing for fast lookups, inserts, and deletions. Keys must be unique and immutable.\n",
        "\n",
        "5.  Why might you use a set instead of a list in Python\n",
        " - You might use a set instead of a list in Python 3 to automatically remove duplicates and for faster membership checks (using in), as sets are unordered and use hash tables.\n",
        "\n",
        "\n",
        " 6.  What is a string in Python, and how is it different from a list\n",
        "\n",
        "  - A string in Python is an immutable sequence of characters.\n",
        "\n",
        " Difference from a list:\n",
        "\n",
        " - Strings can only store characters and cannot be changed.\n",
        "\n",
        " - Lists can store any data type and are mutable (can be modified)\n",
        "\n",
        "7. How do tuples ensure data integrity in Python\n",
        " - Tuples ensure data integrity in Python by being immutable—once created, their contents cannot be changed, added to, or removed. This protects the data from accidental modification.\n",
        "\n",
        " 8. What is a hash table, and how does it relate to dictionaries in Python\n",
        " - A hash table is a data structure that stores key-value pairs using a hash function to compute an index for each key.\n",
        "\n",
        "In Python, dictionaries use hash tables to allow for fast lookups, insertions, and deletions based on keys.\n",
        "\n",
        "9. Can lists contain different data types in Python?\n",
        " - Yes, lists in Python can contain different data types (e.g., integers, strings, objects) within the same list.\n",
        "\n",
        "10. Explain why strings are immutable in Python?\n",
        "\n",
        " - Strings are immutable in Python to ensure:\n",
        "\n",
        " - Data integrity – once created, the content can't be changed, which prevents bugs from accidental modification.\n",
        "\n",
        " - Efficiency – immutability allows Python to optimize memory usage and safely share strings across the program.\n",
        "\n",
        " - Hashability – immutable strings can be used as keys in dictionaries and elements in sets.\n",
        "\n",
        " - This design choice improves performance and reliability in Python programs.\n",
        "\n",
        "\n",
        "11. What advantages do dictionaries offer over lists for certain tasks?\n",
        "\n",
        " -Dictionaries offer several advantages over lists for certain tasks:\n",
        "\n",
        " - Fast lookups – Accessing values by key is quicker than searching a list.\n",
        "\n",
        " - Key-based access – Data is organized by unique keys, making it easier to find and manage.\n",
        "\n",
        " - Clearer structure – Key-value pairs improve readability when data has meaningful labels.\n",
        "\n",
        " - No need for index tracking – You don’t need to remember positions as with lists.\n",
        "\n",
        " - Ideal when working with structured data or needing efficient searches.\n",
        "\n",
        "12. Describe a scenario where using a tuple would be preferable over a list?\n",
        " - Use a tuple when you need to store fixed, unchangeable data, like coordinates (x, y), or as keys in dictionaries where immutability is required.\n",
        "\n",
        " 13. How do sets handle duplicate values in Python?\n",
        "  - Sets in Python automatically remove duplicate values by storing only unique elements. When you add duplicates, they are ignored, ensuring all items in a set are distinct.\n",
        "\n",
        "14. How does the “in” keyword work differently for lists and dictionaries?\n",
        " - The in keyword checks for membership but works differently for lists and dictionaries:\n",
        "\n",
        " - Lists: in checks if a value exists anywhere in the list (searches elements).\n",
        "\n",
        " - Dictionaries: in checks if a key exists in the dictionary (does not check values).\n",
        "\n",
        "\n",
        "15. Can you modify the elements of a tuple? Explain why or why not?\n",
        " - No, you cannot modify the elements of a tuple because tuples are immutable. Once created, their contents cannot be changed, added, or removed to ensure data integrity and allow tuples to be hashable.\n",
        "\n",
        "16. What is a nested dictionary, and give an example of its use case\n",
        "  - A nested dictionary is a dictionary where values are themselves dictionaries. It allows storing complex, hierarchical data.\n",
        "\n",
        "Example use case: Storing user information with multiple attributes.\n",
        "\n",
        "Edit\n",
        "users = {\n",
        "    \"alice\": {\"age\": 30, \"city\": \"New York\"},\n",
        "    \"bob\": {\"age\": 25, \"city\": \"London\"}\n",
        "}\n",
        "Here, each user has a dictionary of details inside the main dictionary.\n",
        "\n",
        "17. Describe the time complexity of accessing elements in a dictionary\n",
        "\n",
        " - Accessing elements in a dictionary typically has average time complexity of O(1) (constant time) due to its underlying hash table implementation. This means lookups are very fast regardless of dictionary size.\n",
        "\n",
        " 18. In what situations are lists preferred over dictionaries\n",
        "\n",
        "  - Lists are preferred over dictionaries when:\n",
        "\n",
        "  You need ordered collections of items.\n",
        "\n",
        " - You want to store duplicate values.\n",
        "\n",
        " - You primarily access elements by position/index, not by key.\n",
        "\n",
        "  -The data is simple and doesn't require key-based lookup.\n",
        "\n",
        "  19. Why are dictionaries considered unordered, and how does that affect data retrieval?\n",
        "\n",
        "   - Dictionaries are considered unordered because they store items by key hashes, not position. This means you access data by keys, not by order.\n",
        "\n",
        "  20.  Explain the difference between a list and a dictionary in terms of data retrieval.\n",
        "  - Lists retrieve data by index position (e.g., list[0]), while dictionaries retrieve data by unique keys (e.g., dict['key']). Lists are ordered; dictionaries use keys for direct access."
      ],
      "metadata": {
        "id": "56oSkMX_bbyV"
      }
    },
    {
      "cell_type": "code",
      "execution_count": null,
      "metadata": {
        "id": "T13-1y52bL_v"
      },
      "outputs": [],
      "source": []
    },
    {
      "cell_type": "markdown",
      "source": [
        "#                                                            **Practical**"
      ],
      "metadata": {
        "id": "BBOs9GAHkc0R"
      }
    },
    {
      "cell_type": "code",
      "source": [
        "#1.  Write a code to create a string with your name and print it\n",
        "name  = \"shubham\"\n",
        "print(name)\n"
      ],
      "metadata": {
        "colab": {
          "base_uri": "https://localhost:8080/"
        },
        "id": "PyoOJ9F1kzxB",
        "outputId": "a46cf22f-9892-4095-8ed2-a91c2cc51ab5"
      },
      "execution_count": 1,
      "outputs": [
        {
          "output_type": "stream",
          "name": "stdout",
          "text": [
            "shubham\n"
          ]
        }
      ]
    },
    {
      "cell_type": "code",
      "source": [
        "#2. Write a code to find the length of the string \"Hello World\"\n",
        "Text = \"Hello World\"\n",
        "length = len(Text)\n",
        "print(length)"
      ],
      "metadata": {
        "colab": {
          "base_uri": "https://localhost:8080/"
        },
        "id": "6TmsnLcYlf1o",
        "outputId": "781bab24-3761-4c7a-a634-b475f1383ef5"
      },
      "execution_count": 2,
      "outputs": [
        {
          "output_type": "stream",
          "name": "stdout",
          "text": [
            "11\n"
          ]
        }
      ]
    },
    {
      "cell_type": "code",
      "source": [
        "#3. Write a code to slice the first 3 characters from the string \"Python Programming\"\n",
        "text = \"Python Programming\"\n",
        "first_three = text[:3]\n",
        "print(first_three)\n"
      ],
      "metadata": {
        "colab": {
          "base_uri": "https://localhost:8080/"
        },
        "id": "DvULccDkmtpZ",
        "outputId": "f1247137-2dde-4e56-f4b0-7b5bce72328c"
      },
      "execution_count": 3,
      "outputs": [
        {
          "output_type": "stream",
          "name": "stdout",
          "text": [
            "Pyt\n"
          ]
        }
      ]
    },
    {
      "cell_type": "code",
      "source": [
        "#4. Write a code to convert the string \"hello\" to uppercase\n",
        "text = \"hello\"\n",
        "uppercase_text = text.upper()\n",
        "print(uppercase_text)"
      ],
      "metadata": {
        "colab": {
          "base_uri": "https://localhost:8080/"
        },
        "id": "ZxjNcrbGnVGw",
        "outputId": "f4180a36-c3aa-4f97-f568-77656be25ee2"
      },
      "execution_count": 4,
      "outputs": [
        {
          "output_type": "stream",
          "name": "stdout",
          "text": [
            "HELLO\n"
          ]
        }
      ]
    },
    {
      "cell_type": "code",
      "source": [
        "#5. Write a code to replace the word \"apple\" with \"orange\" in the string \"I like apple\"\n",
        "text = \"I like apple\"\n",
        "new_text = text.replace(\"apple\", \"orange\")\n",
        "print(new_text)\n"
      ],
      "metadata": {
        "colab": {
          "base_uri": "https://localhost:8080/"
        },
        "id": "9O_0ePxqnkNl",
        "outputId": "4ea10149-5230-446c-dedf-e93e239c69ac"
      },
      "execution_count": 7,
      "outputs": [
        {
          "output_type": "stream",
          "name": "stdout",
          "text": [
            "I like orange\n"
          ]
        }
      ]
    },
    {
      "cell_type": "code",
      "source": [
        "#6. Write a code to create a list with numbers 1 to 5 and print it\n",
        "number = [1, 2, 3, 4, 5]\n",
        "print(number)"
      ],
      "metadata": {
        "colab": {
          "base_uri": "https://localhost:8080/"
        },
        "id": "LKMEU7VupmSM",
        "outputId": "18e7b8eb-1bd6-4c23-c280-9eeebf660967"
      },
      "execution_count": 8,
      "outputs": [
        {
          "output_type": "stream",
          "name": "stdout",
          "text": [
            "[1, 2, 3, 4, 5]\n"
          ]
        }
      ]
    },
    {
      "cell_type": "code",
      "source": [
        "#7.  Write a code to append the number 10 to the list [1, 2, 3, 4]\n",
        "number = [1, 2, 3, 4]\n",
        "number.append(10)\n",
        "print(number)"
      ],
      "metadata": {
        "colab": {
          "base_uri": "https://localhost:8080/"
        },
        "id": "MiW4JoKFqUVF",
        "outputId": "15075f2b-03cc-4c09-c55a-570de4951a15"
      },
      "execution_count": 11,
      "outputs": [
        {
          "output_type": "stream",
          "name": "stdout",
          "text": [
            "[1, 2, 3, 4, 10]\n"
          ]
        }
      ]
    },
    {
      "cell_type": "code",
      "source": [
        "#8. Write a code to remove the number 3 from the list [1, 2, 3, 4, 5]\n",
        "number = [1, 2, 3, 4, 5]\n",
        "number.remove(3)\n",
        "print(number)"
      ],
      "metadata": {
        "colab": {
          "base_uri": "https://localhost:8080/"
        },
        "id": "QWDJORZmqxuS",
        "outputId": "393c909c-85ab-4f29-d100-2b50022f94d7"
      },
      "execution_count": 12,
      "outputs": [
        {
          "output_type": "stream",
          "name": "stdout",
          "text": [
            "[1, 2, 4, 5]\n"
          ]
        }
      ]
    },
    {
      "cell_type": "code",
      "source": [
        "#9. Write a code to access the second element in the list ['a', 'b', 'c', 'd']\n",
        "\n",
        "letters = ['a', 'b', 'c', 'd']\n",
        "second_element = letters[1]\n",
        "print(second_element)"
      ],
      "metadata": {
        "colab": {
          "base_uri": "https://localhost:8080/"
        },
        "id": "rlOysYkXrg2I",
        "outputId": "d5ee5db9-b756-438d-cbbd-b84eb7875ba4"
      },
      "execution_count": 14,
      "outputs": [
        {
          "output_type": "stream",
          "name": "stdout",
          "text": [
            "b\n"
          ]
        }
      ]
    },
    {
      "cell_type": "code",
      "source": [
        "#10. Write a code to reverse the list [10, 20, 30, 40, 50]\n",
        "numbers = [10, 20, 30, 40, 50]\n",
        "numbers.reverse()\n",
        "print(numbers)"
      ],
      "metadata": {
        "colab": {
          "base_uri": "https://localhost:8080/"
        },
        "id": "nY6kAhqWsKIB",
        "outputId": "4d13c927-1111-4042-9747-3ef4321c1ddb"
      },
      "execution_count": 15,
      "outputs": [
        {
          "output_type": "stream",
          "name": "stdout",
          "text": [
            "[50, 40, 30, 20, 10]\n"
          ]
        }
      ]
    },
    {
      "cell_type": "code",
      "source": [
        "#11. Write a code to create a tuple with the elements 100, 200, 300 and print it.\n",
        "my_tuple = (100, 200, 300)\n",
        "print(my_tuple)"
      ],
      "metadata": {
        "colab": {
          "base_uri": "https://localhost:8080/"
        },
        "id": "9LoYFcgEsvYh",
        "outputId": "6203dd6e-a469-4436-f5a8-58897f3fc852"
      },
      "execution_count": 16,
      "outputs": [
        {
          "output_type": "stream",
          "name": "stdout",
          "text": [
            "(100, 200, 300)\n"
          ]
        }
      ]
    },
    {
      "cell_type": "code",
      "source": [
        "#12. Write a code to access the second-to-last element of the tuple ('red', 'green', 'blue', 'yellow').\n",
        "colors = ('red', 'green', 'blue', 'yellow')\n",
        "second_to_last = colors[-2]\n",
        "print(second_to_last)"
      ],
      "metadata": {
        "colab": {
          "base_uri": "https://localhost:8080/"
        },
        "id": "C6_xkEjctKcZ",
        "outputId": "fce79bcd-30e8-4f30-c216-9479981fb65b"
      },
      "execution_count": 17,
      "outputs": [
        {
          "output_type": "stream",
          "name": "stdout",
          "text": [
            "blue\n"
          ]
        }
      ]
    },
    {
      "cell_type": "code",
      "source": [
        "# 13. Write a code to find the minimum number in the tuple (10, 20, 5, 15).\n",
        "numbers = (10, 20, 5, 15)\n",
        "min_number = min(numbers)\n",
        "print(min_number)"
      ],
      "metadata": {
        "colab": {
          "base_uri": "https://localhost:8080/"
        },
        "id": "ytQsQ1HOtZjN",
        "outputId": "293a7793-6af6-4bdf-c16b-88361c4a1fac"
      },
      "execution_count": 18,
      "outputs": [
        {
          "output_type": "stream",
          "name": "stdout",
          "text": [
            "5\n"
          ]
        }
      ]
    },
    {
      "cell_type": "code",
      "source": [
        "#14. Write a code to find the index of the element \"cat\" in the tuple ('dog', 'cat', 'rabbit').\n",
        "animals = ('dog', 'cat', 'rabbit')\n",
        "index_of_cat = animals.index('cat')\n",
        "print(index_of_cat)"
      ],
      "metadata": {
        "colab": {
          "base_uri": "https://localhost:8080/"
        },
        "id": "rPPyjZ84t0Fw",
        "outputId": "02f68650-7f65-4d64-a004-9976215ccb63"
      },
      "execution_count": 19,
      "outputs": [
        {
          "output_type": "stream",
          "name": "stdout",
          "text": [
            "1\n"
          ]
        }
      ]
    },
    {
      "cell_type": "code",
      "source": [
        "#15. Write a code to create a tuple containing three different fruits and check if \"kiwi\" is in it.\n",
        "fruits = ('apple', 'banana', 'kiwi')\n",
        "is_kiwi_in_tuple = 'kiwi' in fruits\n",
        "print(is_kiwi_in_tuple)"
      ],
      "metadata": {
        "colab": {
          "base_uri": "https://localhost:8080/"
        },
        "id": "Xc7whDteuL-2",
        "outputId": "a5d1d45b-f7d0-49ff-8085-28700a678b07"
      },
      "execution_count": 20,
      "outputs": [
        {
          "output_type": "stream",
          "name": "stdout",
          "text": [
            "True\n"
          ]
        }
      ]
    },
    {
      "cell_type": "code",
      "source": [
        "#16. Write a code to create a set with the elements 'a', 'b', 'c' and print it.\n",
        "my_set = {'a', 'b', 'c'}\n",
        "print(my_set)"
      ],
      "metadata": {
        "colab": {
          "base_uri": "https://localhost:8080/"
        },
        "id": "4sOA3rEOuXAO",
        "outputId": "f6f09555-9f0f-4f21-af50-1ac574d733a6"
      },
      "execution_count": 21,
      "outputs": [
        {
          "output_type": "stream",
          "name": "stdout",
          "text": [
            "{'c', 'a', 'b'}\n"
          ]
        }
      ]
    },
    {
      "cell_type": "code",
      "source": [
        "#17. Write a code to clear all elements from the set {1, 2, 3, 4, 5}.\n",
        "my_set = {1, 2, 3, 4, 5}\n",
        "my_set.clear()\n",
        "print(my_set)"
      ],
      "metadata": {
        "colab": {
          "base_uri": "https://localhost:8080/"
        },
        "id": "KK6UNo9_usYG",
        "outputId": "21ce2e0c-c9ed-4116-8023-2465f9b64fd7"
      },
      "execution_count": 22,
      "outputs": [
        {
          "output_type": "stream",
          "name": "stdout",
          "text": [
            "set()\n"
          ]
        }
      ]
    },
    {
      "cell_type": "code",
      "source": [
        "#18. Write a code to remove the element 4 from the set {1, 2, 3, 4}.\n",
        "my_set = {1, 2, 3, 4}\n",
        "my_set.remove(4)\n",
        "print(my_set)"
      ],
      "metadata": {
        "colab": {
          "base_uri": "https://localhost:8080/"
        },
        "id": "Al0RVMsfu6YE",
        "outputId": "c053744f-1c38-4cd0-dc8b-0c3c956c3a96"
      },
      "execution_count": 23,
      "outputs": [
        {
          "output_type": "stream",
          "name": "stdout",
          "text": [
            "{1, 2, 3}\n"
          ]
        }
      ]
    },
    {
      "cell_type": "code",
      "source": [
        "#19. Write a code to find the union of two sets {1, 2, 3} and {3, 4, 5}.\n",
        "set1 = {1, 2, 3}\n",
        "set2 = {3, 4, 5}\n",
        "union_set = set1.union(set2)\n",
        "print(union_set)"
      ],
      "metadata": {
        "colab": {
          "base_uri": "https://localhost:8080/"
        },
        "id": "K4Itj35GvBuC",
        "outputId": "aa4e94c7-6265-4b9d-cdcd-1fc17e8510ef"
      },
      "execution_count": 24,
      "outputs": [
        {
          "output_type": "stream",
          "name": "stdout",
          "text": [
            "{1, 2, 3, 4, 5}\n"
          ]
        }
      ]
    },
    {
      "cell_type": "code",
      "source": [
        "#20. Write a code to find the intersection of two sets {1, 2, 3} and {2, 3, 4}.\n",
        "set1 = {1, 2, 3}\n",
        "set2 = {2, 3, 4}\n",
        "intersection_set = set1.intersection(set2)\n",
        "print(intersection_set)"
      ],
      "metadata": {
        "colab": {
          "base_uri": "https://localhost:8080/"
        },
        "id": "pYf7N9QpvIkT",
        "outputId": "6ef69654-343d-4cd1-ed37-3eee526e86ac"
      },
      "execution_count": 25,
      "outputs": [
        {
          "output_type": "stream",
          "name": "stdout",
          "text": [
            "{2, 3}\n"
          ]
        }
      ]
    },
    {
      "cell_type": "code",
      "source": [
        "#21. Write a code to create a dictionary with the keys \"name\", \"age\", and \"city\", and print it.\n",
        "person = {\n",
        "    \"name\": \"priya\",\n",
        "    \"age\": 30,\n",
        "    \"city\": \"Bhopal\"\n",
        "}\n",
        "print(person)"
      ],
      "metadata": {
        "colab": {
          "base_uri": "https://localhost:8080/"
        },
        "id": "XLaaq3J4v7LE",
        "outputId": "b7d7c9a2-08d8-498f-8c43-33c80de8c3e1"
      },
      "execution_count": 26,
      "outputs": [
        {
          "output_type": "stream",
          "name": "stdout",
          "text": [
            "{'name': 'priya', 'age': 30, 'city': 'Bhopal'}\n"
          ]
        }
      ]
    },
    {
      "cell_type": "code",
      "source": [
        "#22. Write a code to add a new key-value pair \"country\": \"USA\" to the dictionary {'name': 'John', 'age': 25}.\n",
        "person = {'name': 'John', 'age': 25}\n",
        "person['country'] = 'USA'\n",
        "print(person)"
      ],
      "metadata": {
        "colab": {
          "base_uri": "https://localhost:8080/"
        },
        "id": "QtP7zl6OwieC",
        "outputId": "5b264933-9ffc-42b1-d97a-d104de6c90da"
      },
      "execution_count": 27,
      "outputs": [
        {
          "output_type": "stream",
          "name": "stdout",
          "text": [
            "{'name': 'John', 'age': 25, 'country': 'USA'}\n"
          ]
        }
      ]
    },
    {
      "cell_type": "code",
      "source": [
        "#23. Write a code to access the value associated with the key \"name\" in the dictionary {'name': 'Alice', 'age': 30}.\n",
        "person = {'name': 'Alice', 'age': 30}\n",
        "name_value = person['name']\n",
        "print(name_value)"
      ],
      "metadata": {
        "colab": {
          "base_uri": "https://localhost:8080/"
        },
        "id": "jEvd-hplwqrg",
        "outputId": "ca32201d-50f1-46a3-d5fb-28d4da98ba74"
      },
      "execution_count": 28,
      "outputs": [
        {
          "output_type": "stream",
          "name": "stdout",
          "text": [
            "Alice\n"
          ]
        }
      ]
    },
    {
      "cell_type": "code",
      "source": [
        "#24. 24. Write a code to remove the key \"age\" from the dictionary {'name': 'Bob', 'age': 22, 'city': 'New York'}.\n",
        "person = {'name': 'Bob', 'age': 22, 'city': 'New York'}\n",
        "person.pop('age')\n",
        "print(person)"
      ],
      "metadata": {
        "colab": {
          "base_uri": "https://localhost:8080/"
        },
        "id": "RHaZ5M9Iwx1R",
        "outputId": "5702f7e4-ccd2-4fed-dd7e-ca6979de4777"
      },
      "execution_count": 29,
      "outputs": [
        {
          "output_type": "stream",
          "name": "stdout",
          "text": [
            "{'name': 'Bob', 'city': 'New York'}\n"
          ]
        }
      ]
    },
    {
      "cell_type": "code",
      "source": [
        "#25. Write a code to check if the key \"city\" exists in the dictionary {'name': 'Alice', 'city': 'Paris'}.\n",
        "person = {'name': 'Alice', 'city': 'Paris'}\n",
        "has_city = 'city' in person\n",
        "print(has_city)"
      ],
      "metadata": {
        "colab": {
          "base_uri": "https://localhost:8080/"
        },
        "id": "FDkthTZlw8yp",
        "outputId": "37a4eb07-8f2a-4b11-aa8f-c0c3bace4e76"
      },
      "execution_count": 30,
      "outputs": [
        {
          "output_type": "stream",
          "name": "stdout",
          "text": [
            "True\n"
          ]
        }
      ]
    },
    {
      "cell_type": "code",
      "source": [
        "#26. Write a code to create a list, a tuple, and a dictionary, and print them all.\n",
        "my_list = [1, 2, 3]\n",
        "my_tuple = (4, 5, 6)\n",
        "my_dict = {'a': 7, 'b': 8}\n",
        "\n",
        "print(my_list)\n",
        "print(my_tuple)\n",
        "print(my_dict)"
      ],
      "metadata": {
        "colab": {
          "base_uri": "https://localhost:8080/"
        },
        "id": "B91wIi4dxPuf",
        "outputId": "17d4e31e-b384-4524-e848-fe9493226647"
      },
      "execution_count": 31,
      "outputs": [
        {
          "output_type": "stream",
          "name": "stdout",
          "text": [
            "[1, 2, 3]\n",
            "(4, 5, 6)\n",
            "{'a': 7, 'b': 8}\n"
          ]
        }
      ]
    },
    {
      "cell_type": "code",
      "source": [
        "#27. Write a code to create a list of 5 random numbers between 1 and 100, sort it in ascending order, and print the result.(replaced)\n",
        "import random\n",
        "\n",
        "random_numbers = [random.randint(1, 100) for _ in range(5)]\n",
        "random_numbers.sort()\n",
        "print(random_numbers)"
      ],
      "metadata": {
        "colab": {
          "base_uri": "https://localhost:8080/"
        },
        "id": "5_Ss9ZHZxbeV",
        "outputId": "07c91819-631b-4954-8d41-ad1a1bb2ef9c"
      },
      "execution_count": 32,
      "outputs": [
        {
          "output_type": "stream",
          "name": "stdout",
          "text": [
            "[22, 27, 65, 66, 80]\n"
          ]
        }
      ]
    },
    {
      "cell_type": "code",
      "source": [
        "#28. Write a code to create a list with strings and print the element at the third index.\n",
        "my_list = ['apple', 'banana', 'cherry', 'date', 'elderberry']\n",
        "print(my_list[3])"
      ],
      "metadata": {
        "colab": {
          "base_uri": "https://localhost:8080/"
        },
        "id": "c3Bo6oI6x0V_",
        "outputId": "2a567423-e589-4122-e86d-50706b3e107c"
      },
      "execution_count": 33,
      "outputs": [
        {
          "output_type": "stream",
          "name": "stdout",
          "text": [
            "date\n"
          ]
        }
      ]
    },
    {
      "cell_type": "code",
      "source": [
        "#29. Write a code to combine two dictionaries into one and print the result.\n",
        "dict1 = {'a': 1, 'b': 2}\n",
        "dict2 = {'c': 3, 'd': 4}\n",
        "\n",
        "combined_dict = {**dict1, **dict2}\n",
        "print(combined_dict)"
      ],
      "metadata": {
        "colab": {
          "base_uri": "https://localhost:8080/"
        },
        "id": "kRaGbR7ryJKD",
        "outputId": "cfe12850-7f30-426a-9ce5-c714ec11ad8f"
      },
      "execution_count": 34,
      "outputs": [
        {
          "output_type": "stream",
          "name": "stdout",
          "text": [
            "{'a': 1, 'b': 2, 'c': 3, 'd': 4}\n"
          ]
        }
      ]
    },
    {
      "cell_type": "code",
      "source": [
        "#30. Write a code to convert a list of strings into a set.\n",
        "my_list = ['apple', 'banana', 'apple', 'cherry']\n",
        "my_set = set(my_list)\n",
        "print(my_set)"
      ],
      "metadata": {
        "colab": {
          "base_uri": "https://localhost:8080/"
        },
        "id": "oigOAludyRnn",
        "outputId": "a33ba663-a4f9-48ec-ca3b-9fdb3f547282"
      },
      "execution_count": 35,
      "outputs": [
        {
          "output_type": "stream",
          "name": "stdout",
          "text": [
            "{'banana', 'cherry', 'apple'}\n"
          ]
        }
      ]
    },
    {
      "cell_type": "code",
      "source": [],
      "metadata": {
        "id": "Jhud6OifykD4"
      },
      "execution_count": null,
      "outputs": []
    }
  ]
}